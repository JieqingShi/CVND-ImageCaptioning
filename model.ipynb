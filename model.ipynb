{
 "cells": [
  {
   "cell_type": "code",
   "execution_count": 1,
   "metadata": {},
   "outputs": [],
   "source": [
    "import torch\n",
    "import torch.nn as nn\n",
    "import torchvision.models as models"
   ]
  },
  {
   "cell_type": "code",
   "execution_count": 2,
   "metadata": {},
   "outputs": [],
   "source": [
    "class EncoderCNN(nn.Module):\n",
    "    def __init__(self, embed_size):\n",
    "        super(EncoderCNN, self).__init__()\n",
    "        resnet = models.resnet50(pretrained=True)\n",
    "        for param in resnet.parameters():\n",
    "            param.requires_grad_(False)\n",
    "        \n",
    "        modules = list(resnet.children())[:-1]\n",
    "        self.resnet = nn.Sequential(*modules)\n",
    "        self.embed = nn.Linear(resnet.fc.in_features, embed_size)\n",
    "\n",
    "    def forward(self, images):\n",
    "        features = self.resnet(images)\n",
    "        features = features.view(features.size(0), -1)\n",
    "        features = self.embed(features)\n",
    "        return features"
   ]
  },
  {
   "cell_type": "code",
   "execution_count": 3,
   "metadata": {},
   "outputs": [],
   "source": [
    "class DecoderRNN(nn.Module):\n",
    "    def __init__(self, embed_size, hidden_size, vocab_size, num_layers=1):\n",
    "        super(DecoderRNN, self).__init__()\n",
    "        self.hidden_size = hidden_size\n",
    "        self.embedding = nn.Embedding(num_embeddings=vocab_size, embedding_dim=embed_size)\n",
    "        self.lstm = nn.LSTM(input_size=embed_size, hidden_size=hidden_size, num_layers=num_layers, \n",
    "                            batch_first=True, dropout=0.3)\n",
    "        self.linear = nn.Linear(in_features=hidden_size, out_features=vocab_size)\n",
    "        self.init()\n",
    "        \n",
    "        \n",
    "    def init(self):\n",
    "        torch.nn.init.kaiming_uniform_(self.embedding.weight)\n",
    "        torch.nn.init.kaiming_uniform_(self.linear.weight)\n",
    "        \n",
    "    \n",
    "    def forward(self, features, captions):\n",
    "        captions = captions[:,:-1]\n",
    "        captions = self.embedding(captions)\n",
    "        \n",
    "        features = features.unsqueeze(1)\n",
    "        inputs = torch.cat((features, captions), 1)\n",
    "        out, hidden = self.lstm(inputs)\n",
    "        out = self.linear(out)\n",
    "        return out\n",
    "        \n",
    "\n",
    "    def sample(self, inputs, states=None, max_len=20):\n",
    "        \" accepts pre-processed image tensor (inputs) and returns predicted sentence (list of tensor ids of length max_len) \"\n",
    "        captions = []\n",
    "        for i in range(max_len):\n",
    "            out, states = self.lstm(inputs, states)\n",
    "            out = self.linear(out)  # batch_size, seq_len, vocab_size\n",
    "            word = out.argmax(dim=-1)\n",
    "            captions.append(word.item())\n",
    "            inputs = self.embedding(word)\n",
    "        return inputs"
   ]
  },
  {
   "cell_type": "code",
   "execution_count": null,
   "metadata": {},
   "outputs": [],
   "source": [
    "nn.LSTM()"
   ]
  }
 ],
 "metadata": {
  "kernelspec": {
   "display_name": "Python 3",
   "language": "python",
   "name": "python3"
  },
  "language_info": {
   "codemirror_mode": {
    "name": "ipython",
    "version": 3
   },
   "file_extension": ".py",
   "mimetype": "text/x-python",
   "name": "python",
   "nbconvert_exporter": "python",
   "pygments_lexer": "ipython3",
   "version": "3.6.3"
  }
 },
 "nbformat": 4,
 "nbformat_minor": 2
}
